{
  "nbformat": 4,
  "nbformat_minor": 0,
  "metadata": {
    "colab": {
      "provenance": [],
      "authorship_tag": "ABX9TyPygYq2tk2WLiTPLjO5F4Cp",
      "include_colab_link": true
    },
    "kernelspec": {
      "name": "python3",
      "display_name": "Python 3"
    },
    "language_info": {
      "name": "python"
    }
  },
  "cells": [
    {
      "cell_type": "markdown",
      "metadata": {
        "id": "view-in-github",
        "colab_type": "text"
      },
      "source": [
        "<a href=\"https://colab.research.google.com/github/DanielSarmiento04/transfer_numerical_system/blob/main/trasnfer_numerical_system.ipynb\" target=\"_parent\"><img src=\"https://colab.research.google.com/assets/colab-badge.svg\" alt=\"Open In Colab\"/></a>"
      ]
    },
    {
      "cell_type": "markdown",
      "source": [
        "# Enunciado\n",
        "\n",
        "(50%) La figura muestra la punta de un cautín para soldadura de estaño. Considere que el cautín está compuesto por una barra de longitud 2L y diámetro D. Una mitad está aislada por su perímetro. El extremo de la mitad aislada está a una temperatura Tw = 300°C. La otra mitad está expuesta a una temperatura ambiente T0 = 25°C y con un coeficiente de transferencia de calor ho = 12 W /m2 K. El extremo de la mitad al ambiente se considera adiabática.\n",
        "Encontrar:\n",
        "\n",
        "- a) La ecuación diferencial de la evolución de temperatura en la barra.\n",
        "- b) la temperatura del plano medio (T.)\n",
        "- c) la temperatura del extremo adiabático (T).\n",
        "\n",
        "<p align=\"center\">\n",
        "  <img src=\"https://github.com/DanielSarmiento04/transfer_numerical_system/blob/main/image.png?raw=true\" height =\"300px\">\n",
        "</p>\n",
        "\n"
      ],
      "metadata": {
        "id": "AUUc2m63-MTn"
      }
    },
    {
      "cell_type": "markdown",
      "source": [
        "## Importar librerias necesarias"
      ],
      "metadata": {
        "id": "pZD45afp_V_8"
      }
    },
    {
      "cell_type": "code",
      "execution_count": 1,
      "metadata": {
        "id": "leEpZ-XI9Hpf"
      },
      "outputs": [],
      "source": [
        "import numpy as np\n",
        "from matplotlib import pyplot as plt"
      ]
    },
    {
      "cell_type": "markdown",
      "source": [
        "## Definir variables conocidas"
      ],
      "metadata": {
        "id": "16C4FzBM_c9w"
      }
    },
    {
      "cell_type": "code",
      "source": [
        "l                       = 2     # metros\n",
        "diametro                = 5e-2  # metros\n",
        "conductividad_acero     = 16    # W /(m*K)\n",
        "calor_trasnferido       = 2e5   # w /m3\n",
        "\n",
        "T_w                     = 300 #+ 273.15  # K\n",
        "T_amb                   = 25 #+ 273.15   # K\n",
        "h_conv                  = 12            # W /(m2*k)"
      ],
      "metadata": {
        "id": "Lvi5tTAJ_fDF"
      },
      "execution_count": 59,
      "outputs": []
    },
    {
      "cell_type": "code",
      "source": [
        "area                    = lambda diametro : (np.pi * diametro ** 2) / 4\n",
        "perimetro               = lambda diametro : (np.pi * diametro)\n",
        "\n",
        "# relu                    = lambda x : x"
      ],
      "metadata": {
        "id": "3E3IMEsUFxeo"
      },
      "execution_count": 13,
      "outputs": []
    },
    {
      "cell_type": "code",
      "source": [
        "area_c = area(diametro)\n",
        "print(f\"Area {area_c:.5f} m^2\")\n",
        "perimetro_c = perimetro(diametro)\n",
        "print(f\"Perimetro {perimetro_c:.5f} m\")"
      ],
      "metadata": {
        "colab": {
          "base_uri": "https://localhost:8080/"
        },
        "id": "OuH8LN7RG-y-",
        "outputId": "19e2c90d-7000-43b6-e96c-6965d5c427b2"
      },
      "execution_count": 17,
      "outputs": [
        {
          "output_type": "stream",
          "name": "stdout",
          "text": [
            "Area 0.00196 m^2\n",
            "Perimetro 0.15708 m\n"
          ]
        }
      ]
    },
    {
      "cell_type": "markdown",
      "source": [
        "### Primer Trazo\n",
        "\n",
        "$$ T_{(x)} = - \\frac{q^{'''}x^{2}}{2k} + C_{1} x + C_{2} $$\n",
        "\n",
        "\n",
        "- $ C_{2} = T_{w} $\n",
        "- $ C_{1} = T_{1} $"
      ],
      "metadata": {
        "id": "Gi2cxqUzB-xP"
      }
    },
    {
      "cell_type": "markdown",
      "source": [
        "### Segundo Trazo\n",
        "\n",
        "$$ \\theta_{(x)} = C_{3} e^{mx} - C_{4} e^{-mx} $$\n",
        "\n",
        "$$ \\theta_{(x)} = (T - T_{amb}) - \\frac{ q^{'''} * A_{c}}{h*P} $$\n",
        "\n",
        "\n",
        "$$ (T - T_{amb}) - \\frac{ q^{'''} * A_{c}}{h*P} = C_{3} e^{mx} - C_{4} e^{-mx}  $$\n",
        "\n",
        "$$ T =  C_{3} e^{mx} - C_{4} e^{-mx} + \\frac{ q^{'''} * A_{c}}{h*P}  + T_{amb}$$\n",
        "\n"
      ],
      "metadata": {
        "id": "4j01ZUkeFYvw"
      }
    },
    {
      "cell_type": "markdown",
      "source": [
        "### Calculo de las incognitas"
      ],
      "metadata": {
        "id": "sRM8KMyqTymN"
      }
    },
    {
      "cell_type": "code",
      "source": [
        "from sympy import symbols, Eq, solve"
      ],
      "metadata": {
        "id": "0gCEGWRcFYSp"
      },
      "execution_count": 46,
      "outputs": []
    },
    {
      "cell_type": "code",
      "source": [
        "m = ((h_conv * perimetro_c) / (conductividad_acero * area_c))**-2\n",
        "m"
      ],
      "metadata": {
        "colab": {
          "base_uri": "https://localhost:8080/"
        },
        "id": "I1_lAvWQVDJp",
        "outputId": "1a7b58f9-8e7f-4acb-f28c-1935c90489eb"
      },
      "execution_count": 55,
      "outputs": [
        {
          "output_type": "execute_result",
          "data": {
            "text/plain": [
              "0.00027777777777777783"
            ]
          },
          "metadata": {},
          "execution_count": 55
        }
      ]
    },
    {
      "cell_type": "code",
      "source": [
        "c_1, c_3, c_4, T_0, T_1 = symbols('c_1 c_3 c_4 T_0 T_1')\n",
        "c_1, c_3, c_4, T_0, T_1"
      ],
      "metadata": {
        "colab": {
          "base_uri": "https://localhost:8080/"
        },
        "id": "j682CN_gTAUw",
        "outputId": "29ac4c4a-56e6-447a-c7a9-d23e8101a5bd"
      },
      "execution_count": 56,
      "outputs": [
        {
          "output_type": "execute_result",
          "data": {
            "text/plain": [
              "(c_1, c_3, c_4, T_0, T_1)"
            ]
          },
          "metadata": {},
          "execution_count": 56
        }
      ]
    },
    {
      "cell_type": "code",
      "source": [
        "T_w"
      ],
      "metadata": {
        "colab": {
          "base_uri": "https://localhost:8080/"
        },
        "id": "Y215QUaaaYGv",
        "outputId": "c89e8d11-1f73-453f-c215-2cc7175cf4f0"
      },
      "execution_count": 58,
      "outputs": [
        {
          "output_type": "execute_result",
          "data": {
            "text/plain": [
              "573.15"
            ]
          },
          "metadata": {},
          "execution_count": 58
        }
      ]
    },
    {
      "cell_type": "code",
      "source": [
        "eqt_1  = Eq(\n",
        "    T_0 - T_amb,\n",
        "    c_3 - c_4 + calor_trasnferido * (area_c / (h_conv * perimetro_c))\n",
        ")\n",
        "\n",
        "eqt_3  = Eq(\n",
        "    T_0,\n",
        "    - calor_trasnferido * (l**2) / (2 * conductividad_acero) + c_1 * l + T_w\n",
        ") # Check\n",
        "\n",
        "eqt_2  = Eq(\n",
        "    T_1 - T_amb,\n",
        "    c_3 * np.e**(m * l) - c_4 * np.e**(-m * l) + calor_trasnferido * (area_c / (h_conv * perimetro_c))\n",
        ")\n",
        "\n",
        "eqt_4  = Eq(\n",
        "    - calor_trasnferido * (l) / (conductividad_acero) + c_1,\n",
        "    m * c_3 + c_4 * m\n",
        ")\n",
        "\n",
        "eqt_5  = Eq(\n",
        "    0,\n",
        "    m * c_3 * np.e**(m*l)  + c_4 * m * np.e**(-m*l)\n",
        ")"
      ],
      "metadata": {
        "id": "j7zvaJaOTbno"
      },
      "execution_count": 68,
      "outputs": []
    },
    {
      "cell_type": "code",
      "source": [
        "solve(\n",
        "    [eqt_1, eqt_2, eqt_3, eqt_4, eqt_5],\n",
        "    [c_1, c_3, c_4, T_0, T_1 ]\n",
        ")"
      ],
      "metadata": {
        "colab": {
          "base_uri": "https://localhost:8080/"
        },
        "id": "e0PtGAhjWNmw",
        "outputId": "b0209e62-4169-40b5-f76e-9ca492207255"
      },
      "execution_count": 67,
      "outputs": [
        {
          "output_type": "execute_result",
          "data": {
            "text/plain": [
              "{T_0: 25299.9922633777,\n",
              " T_1: 25299.9883950667,\n",
              " c_1: 24999.9961316888,\n",
              " c_3: 12526.3665049246,\n",
              " c_4: -12540.2924251197}"
            ]
          },
          "metadata": {},
          "execution_count": 67
        }
      ]
    }
  ]
}